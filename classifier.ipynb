{
 "cells": [
  {
   "cell_type": "code",
   "execution_count": 1,
   "id": "7296bf1f-7b25-4aba-8a56-c6092034f7d4",
   "metadata": {},
   "outputs": [],
   "source": [
    "#Import dependencies\n",
    "from nn import NeuralNetwork\n",
    "from nn import preprocess\n",
    "from nn import io\n",
    "from sklearn.model_selection import train_test_split\n",
    "from matplotlib import pyplot as plt\n",
    "import numpy as np"
   ]
  },
  {
   "cell_type": "markdown",
   "id": "0407bef9-333a-4e42-a8e3-8b0430bba7f7",
   "metadata": {},
   "source": [
    "# Rationale for Sampling Scheme\n",
    "In my implementation of sample_seqs, I set a total sample size. I then randomly sample, with replacement, from both the positive and negative examples such that the relative abundance of both classes of examples is exactly equal. Note that since the negative examples are all longer than 17 bp, I randomly selected a 17mer within each negative sequence. I decided to sample in this fashion to address the class imbalance and incongruence of sequence length between classes. "
   ]
  },
  {
   "cell_type": "code",
   "execution_count": 4,
   "id": "d98f6018-1f30-4fa8-887e-e0d6d35d9159",
   "metadata": {},
   "outputs": [],
   "source": [
    "#Process data for training\n",
    "pos_file = 'data/rap1-lieb-positives.txt'\n",
    "neg_file = 'data/yeast-upstream-1k-negative.fa'\n",
    "\n",
    "#Load sequences and labels\n",
    "pos_seqs = io.read_text_file(pos_file)\n",
    "pos_labels = [1] * len(pos_seqs)\n",
    "neg_seqs = io.read_fasta_file(neg_file)\n",
    "neg_labels = [0] * len(neg_seqs)\n",
    "seqs = pos_seqs + neg_seqs\n",
    "labels = pos_labels + neg_labels\n",
    "\n",
    "#Sample sequences\n",
    "seed = 1 #set seed for reproducibility\n",
    "sampled_seqs, sampled_labels = preprocess.sample_seqs(seqs,labels,1)\n",
    "\n",
    "#Generate training and validation sets\n",
    "split_percent = .3\n",
    "X_train, X_val, y_train, y_val = train_test_split(sampled_seqs, sampled_labels, test_size=split_percent, random_state=42)\n",
    "\n",
    "#Reshape and one hot encode training and validation sets  \n",
    "X_train = np.array(preprocess.one_hot_encode_seqs(X_train)).T\n",
    "X_val = np.array(preprocess.one_hot_encode_seqs(X_val)).T\n",
    "y_train = np.array([y_train])\n",
    "y_val = np.array([y_val])\n",
    "\n",
    "X = np.concatenate((X_train, X_val),axis=1)\n",
    "y = np.concatenate((y_train, y_val),axis=1)"
   ]
  },
  {
   "cell_type": "markdown",
   "id": "4c661231-4ed0-4e5d-b179-34f9ea336ecb",
   "metadata": {},
   "source": [
    "# Rationale for choice of hyperparameters and loss funciton\n",
    "With regards to the loss function, I decided to use the binary cross entropy loss, as I felt it would be well-suited for a binary classification problem. Similar to my implementation of an autoencoder, my choice of hyperparamters was based on trial and error. After experimenting with multiple learning rates and batch sizes, I found that keeping the learning rate and batch size relatively small and large produced the most favorable results. Making the learning rate too large and the batch size too small led to instability in my minimization. I also tested how model performance changed with increasing epochs. I found that increases up to 5,000 epochs led to significant improvements in performance. Since the selection of a starting point for gradient descent can influence the minimum converged on, I tested two different random seeds. I found that the initial weights corresponding to seed2 provided the most favorable results. \n",
    "\n",
    "To fine tune the network architecture, I tried adding more hidden layers. In all architectures I tested, the dimensionality of the current layer was always less than that of the layer before it. I found that adding an extra hidden layer improved both training and validation loss. Additional layers seemed to elict decreases training loss exclusively. With the optimized architecture in hand, I attempted to further improve performance by experimenting with a ReLu activation functions in the hidden layers, rather than sigmoid. No meaningful differences in validation loss were observed. \n",
    "\n",
    "In the future, I think it would be worthwhile to experiment with changing multiple parameters simultaneously, as there may be cooperative effects that were missed in my approach to optimizing model performance. Nonetheless, I'm pleased with how unexpectedly well my model performed. "
   ]
  },
  {
   "cell_type": "code",
   "execution_count": 17,
   "id": "9c401240-0780-4ed0-8255-b9f50105ecbc",
   "metadata": {},
   "outputs": [],
   "source": [
    "#Define hyperparameters\n",
    "nn_arch = [{'input_dim' :  68, 'output_dim' : 34, 'activation' : 'sigmoid'},\n",
    "           {'input_dim' :  34, 'output_dim' : 17, 'activation' : 'relu'},\n",
    "           {'input_dim' : 17, 'output_dim' : 1, 'activation' : 'sigmoid'}]\n",
    "lr = 0.0005\n",
    "seed1 = 1\n",
    "seed2 = 2\n",
    "batch_size = 400\n",
    "epochs = 5000\n",
    "loss_function = 'bce'"
   ]
  },
  {
   "cell_type": "code",
   "execution_count": 18,
   "id": "541bee56-825d-45bc-8a29-c52177b7ce9a",
   "metadata": {},
   "outputs": [],
   "source": [
    "#Train classifier\n",
    "classifier = NeuralNetwork(nn_arch, lr, seed2, batch_size, epochs, loss_function)\n",
    "train_loss, val_loss = classifier.fit(X_train, y_train, X_val, y_val)"
   ]
  },
  {
   "cell_type": "code",
   "execution_count": 19,
   "id": "6eec4dee-30d1-4b9d-bf29-85d0f6372be9",
   "metadata": {},
   "outputs": [
    {
     "data": {
      "image/png": "[encoded data removed]",
      "text/plain": [
       "<Figure size 432x288 with 2 Axes>"
      ]
     },
     "metadata": {
      "needs_background": "light"
     },
     "output_type": "display_data"
    }
   ],
   "source": [
    "#Plot losses\n",
    "epochs = np.linspace(1, len(train_loss), len(train_loss))\n",
    "fig,axs = plt.subplots(2)\n",
    "axs[0].plot(epochs, train_loss)\n",
    "axs[0].set_title('Training Loss')\n",
    "axs[0].set_xlabel('Epoch')\n",
    "axs[0].set_ylabel('BCE Loss')\n",
    "\n",
    "axs[1].plot(epochs, val_loss)\n",
    "axs[1].set_title('Validation Loss')\n",
    "axs[1].set_xlabel('Epoch')\n",
    "axs[1].set_ylabel('BCE Loss')\n",
    "fig.tight_layout()\n",
    "plt.show()"
   ]
  },
  {
   "cell_type": "code",
   "execution_count": 21,
   "id": "203a90f5-6b11-42bf-9540-adc98fe62f0f",
   "metadata": {},
   "outputs": [
    {
     "name": "stdout",
     "output_type": "stream",
     "text": [
      "Accuracy of Validation Set: 0.998\n",
      "Final Training Loss: 0.00012243119525033624\n",
      "Final Validation Loss: 0.004132846881252932\n"
     ]
    }
   ],
   "source": [
    "#Generate predictions for all sequences in X_val\n",
    "prediction = classifier.predict(X_val)\n",
    "\n",
    "#Compute accuracy of trained neural network\n",
    "accuracy = (y_val.shape[1] - np.count_nonzero(y_val - np.round(prediction))) / y_val.shape[1]\n",
    "final_train_loss = train_loss[-1]\n",
    "final_val_loss = val_loss[-1]\n",
    "\n",
    "print(f'Accuracy of Validation Set: {accuracy}')\n",
    "print(f'Final Training Loss: {final_train_loss}')\n",
    "print(f'Final Validation Loss: {final_val_loss}')"
   ]
  },
  {
   "cell_type": "code",
   "execution_count": null,
   "id": "004e3488-c0c0-4827-88cd-028f7407a559",
   "metadata": {},
   "outputs": [],
   "source": []
  }
 ],
 "metadata": {
  "kernelspec": {
   "display_name": "Python 3",
   "language": "python",
   "name": "python3"
  },
  "language_info": {
   "codemirror_mode": {
    "name": "ipython",
    "version": 3
   },
   "file_extension": ".py",
   "mimetype": "text/x-python",
   "name": "python",
   "nbconvert_exporter": "python",
   "pygments_lexer": "ipython3",
   "version": "3.8.8"
  }
 },
 "nbformat": 4,
 "nbformat_minor": 5
}
