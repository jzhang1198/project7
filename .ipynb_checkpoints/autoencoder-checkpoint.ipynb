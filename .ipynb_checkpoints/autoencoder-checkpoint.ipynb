{
 "cells": [
  {
   "cell_type": "code",
   "execution_count": 1,
   "id": "cdd5ca3a-72fa-425f-88c4-115f7aef7e34",
   "metadata": {},
   "outputs": [],
   "source": [
    "#Import dependencies\n",
    "from nn import NeuralNetwork\n",
    "from sklearn.datasets import load_digits\n",
    "from sklearn.model_selection import train_test_split\n",
    "from matplotlib import pyplot as plt\n",
    "import numpy as np"
   ]
  },
  {
   "cell_type": "code",
   "execution_count": 3,
   "id": "49798d20-251b-47a4-b019-a6779ba8fb2f",
   "metadata": {},
   "outputs": [],
   "source": [
    "#Load and split digits dataset\n",
    "split_percent = .33\n",
    "\n",
    "digits = load_digits()\n",
    "y = digits['target']\n",
    "X = digits['data']\n",
    "X_train, X_val, y_train, y_val = train_test_split(X, y, test_size=split_percent, random_state=42)\n",
    "\n",
    "#Reshape dataset to fit convention used in implementation of neural net\n",
    "X_train = X_train.T \n",
    "X_val = X_val.T\n",
    "y_train = np.array([y_train])\n",
    "y_val = np.array([y_val])"
   ]
  },
  {
   "cell_type": "markdown",
   "id": "0402b853-68ba-4985-bb3b-771b89d62c2b",
   "metadata": {},
   "source": [
    "# Rationale for hyperparameter choice\n",
    "For the most part, hyperparameters were chosen via trail and error. With regards to the architecture of the autoencoder, the dimensions of the input, output, and hidden layer were kept constant. I experimented with various activation functions, namely sigmoid and ReLu. I found that the ReLu activation activation function produced the best results. This makes intuitive sense, as the value of pixel intensities are numerics greater than 0. I also experimented with different initial weights, as the selection of a starting point for gradient descent can influence the minima converged on. After testing two random seeds, I found that random seed 2 gave me the most favorable results. To avoid instability, I decided to use relatively large batch sizes and a relatively small learning rate for gradient descent. To find the optimal number of epochs, I incrementally increased number of training iterations from 1,000 to 10,000. I found that further increases above 10,000 epochs did not produce meaningful improvement in validation loss."
   ]
  },
  {
   "cell_type": "code",
   "execution_count": 4,
   "id": "815f4aa7-e8a8-4577-976b-08651edbd89b",
   "metadata": {},
   "outputs": [],
   "source": [
    "#Define hyperparams\n",
    "nn_arch = [{'input_dim': 64, 'output_dim': 16, 'activation': 'relu'}, {'input_dim': 16, 'output_dim': 64, 'activation': 'relu'}]\n",
    "lr = 0.01\n",
    "seed1 = 1\n",
    "seed2 = 2\n",
    "batch_size = 500\n",
    "epochs = 10000\n",
    "loss_function = 'mse'"
   ]
  },
  {
   "cell_type": "code",
   "execution_count": 5,
   "id": "eae67fa6-abab-4219-9103-8cdcdaf09787",
   "metadata": {},
   "outputs": [],
   "source": [
    "#Train autoencoder using digits dataset\n",
    "autoencoder = NeuralNetwork(nn_arch, lr, seed2, batch_size, epochs, loss_function)\n",
    "train_loss, val_loss = autoencoder.fit(X_train, X_train, X_val, X_val)"
   ]
  },
  {
   "cell_type": "code",
   "execution_count": 6,
   "id": "dad19971-c1d1-4087-873e-6a528ab51ede",
   "metadata": {},
   "outputs": [
    {
     "data": {
      "image/png": "[encoded data removed]",
      "text/plain": [
       "<Figure size 432x288 with 2 Axes>"
      ]
     },
     "metadata": {
      "needs_background": "light"
     },
     "output_type": "display_data"
    }
   ],
   "source": [
    "#Plot losses\n",
    "epochs = np.linspace(1, len(train_loss), len(train_loss))\n",
    "fig,axs = plt.subplots(2)\n",
    "axs[0].plot(epochs, train_loss)\n",
    "axs[0].set_title('Training Loss')\n",
    "axs[0].set_xlabel('Epoch')\n",
    "\n",
    "axs[1].plot(epochs, val_loss)\n",
    "axs[1].set_title('Validation Loss')\n",
    "axs[1].set_xlabel('Epoch')\n",
    "fig.tight_layout()\n",
    "plt.show()"
   ]
  },
  {
   "cell_type": "code",
   "execution_count": 7,
   "id": "77cdfc7c-83fa-433e-814d-437622beedff",
   "metadata": {},
   "outputs": [
    {
     "name": "stdout",
     "output_type": "stream",
     "text": [
      "Training Loss: 7.308508521490607\n",
      "Validation Loss: 7.886006934648049\n",
      "Reconstruction Error: 1.251969007263803\n",
      "\n"
     ]
    },
    {
     "data": {
      "text/plain": [
       "<Figure size 432x288 with 0 Axes>"
      ]
     },
     "metadata": {},
     "output_type": "display_data"
    },
    {
     "data": {
      "image/png": "[encoded data removed]",
      "text/plain": [
       "<Figure size 432x288 with 2 Axes>"
      ]
     },
     "metadata": {
      "needs_background": "light"
     },
     "output_type": "display_data"
    }
   ],
   "source": [
    "#Plot final training and validation loss as well as final reconstruction error\n",
    "predictions = autoencoder.predict(X.T)\n",
    "reconstruction_error = np.mean(np.absolute(predictions - X.T))\n",
    "\n",
    "print(f'Training Loss: {train_loss[-1]}')\n",
    "print(f'Validation Loss: {val_loss[-1]}')\n",
    "print(f'Reconstruction Error: {reconstruction_error}')\n",
    "print('')\n",
    "\n",
    "#Visualize a representative validation example and its reconstruction\n",
    "predictions = autoencoder.predict(X_val)\n",
    "i = np.random.randint(0,X_val.shape[1])\n",
    "sample = X_val[:,i]\n",
    "reconstruction = predictions[:,i]\n",
    "number = y_val[0,i]\n",
    "\n",
    "plt.gray()\n",
    "fig,ax = plt.subplots(2)\n",
    "ax[0].matshow(sample.reshape(8,8))\n",
    "ax[0].set_title(f'Image of a {number}')\n",
    "\n",
    "ax[1].matshow(reconstruction.reshape(8,8))\n",
    "ax[1].set_title('Reconstructed Image')\n",
    "fig.tight_layout()"
   ]
  },
  {
   "cell_type": "code",
   "execution_count": null,
   "id": "23846ec8-df72-4bf4-863a-1499bea19ee3",
   "metadata": {},
   "outputs": [],
   "source": []
  }
 ],
 "metadata": {
  "kernelspec": {
   "display_name": "Python 3",
   "language": "python",
   "name": "python3"
  },
  "language_info": {
   "codemirror_mode": {
    "name": "ipython",
    "version": 3
   },
   "file_extension": ".py",
   "mimetype": "text/x-python",
   "name": "python",
   "nbconvert_exporter": "python",
   "pygments_lexer": "ipython3",
   "version": "3.8.8"
  }
 },
 "nbformat": 4,
 "nbformat_minor": 5
}
