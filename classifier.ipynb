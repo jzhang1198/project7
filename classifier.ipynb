{
 "cells": [
  {
   "cell_type": "code",
   "execution_count": 1,
   "id": "7296bf1f-7b25-4aba-8a56-c6092034f7d4",
   "metadata": {},
   "outputs": [],
   "source": [
    "#Import dependencies\n",
    "from nn import NeuralNetwork\n",
    "from nn import preprocess\n",
    "from nn import io\n",
    "from sklearn.model_selection import train_test_split\n",
    "from matplotlib import pyplot as plt\n",
    "import numpy as np"
   ]
  },
  {
   "cell_type": "markdown",
   "id": "0407bef9-333a-4e42-a8e3-8b0430bba7f7",
   "metadata": {},
   "source": [
    "# Rationale for Sampling Scheme\n",
    "Because the relative abundance of negative examples is much greater than that of positive examples, I decided to sample a small fraction of the negative examples. In my implementation of sample_seqs, I randomly sample, with replacement, 137 known negative examples. From each of these 137 sequences, I randomly select a 17-mer to ensure that all examples are of the same sequence length. "
   ]
  },
  {
   "cell_type": "code",
   "execution_count": 2,
   "id": "d98f6018-1f30-4fa8-887e-e0d6d35d9159",
   "metadata": {},
   "outputs": [
    {
     "name": "stdout",
     "output_type": "stream",
     "text": [
      "(68, 191)\n",
      "(68, 83)\n"
     ]
    }
   ],
   "source": [
    "#Process data for training\n",
    "pos_file = 'data/rap1-lieb-positives.txt'\n",
    "neg_file = 'data/yeast-upstream-1k-negative.fa'\n",
    "\n",
    "#Load sequences and labels\n",
    "pos_seqs = io.read_text_file(pos_file)\n",
    "pos_labels = [1] * len(pos_seqs)\n",
    "neg_seqs = io.read_fasta_file(neg_file)\n",
    "neg_labels = [0] * len(neg_seqs)\n",
    "seqs = pos_seqs + neg_seqs\n",
    "labels = pos_labels + neg_labels\n",
    "\n",
    "#Sample sequences\n",
    "seed = 1 #set seed for reproducibility\n",
    "sampled_seqs, sampled_labels = preprocess.sample_seqs(seqs,labels,1)\n",
    "\n",
    "#Generate training and validation sets\n",
    "split_percent = .3\n",
    "X_train, X_val, y_train, y_val = train_test_split(sampled_seqs, sampled_labels, test_size=split_percent, random_state=42)\n",
    "\n",
    "#Reshape and one hot encode training and validation sets  \n",
    "X_train = np.array(preprocess.one_hot_encode_seqs(X_train)).T\n",
    "X_val = np.array(preprocess.one_hot_encode_seqs(X_val)).T\n",
    "y_train = np.array([y_train])\n",
    "y_val = np.array([y_val])\n",
    "\n",
    "print(X_train.shape)\n",
    "print(X_val.shape)\n",
    "\n",
    "X = np.concatenate((X_train, X_val),axis=1)\n",
    "y = np.concatenate((y_train, y_val),axis=1)"
   ]
  },
  {
   "cell_type": "code",
   "execution_count": 3,
   "id": "9c401240-0780-4ed0-8255-b9f50105ecbc",
   "metadata": {},
   "outputs": [],
   "source": [
    "#Define hyperparameters\n",
    "nn_arch = [{'input_dim' :  68, 'output_dim' : 34, 'activation' : 'sigmoid'}, \n",
    "           {'input_dim' : 34, 'output_dim' : 16, 'activation' : 'sigmoid'}, \n",
    "           {'input_dim' : 16, 'output_dim' : 8, 'activation' : 'sigmoid'}, \n",
    "           {'input_dim' : 8, 'output_dim' : 1, 'activation' : 'sigmoid'}]\n",
    "lr = 0.0001\n",
    "seed1 = 1\n",
    "seed2 = 2\n",
    "batch_size = 30\n",
    "epochs = 4000\n",
    "loss_function = 'mse'"
   ]
  },
  {
   "cell_type": "code",
   "execution_count": 4,
   "id": "541bee56-825d-45bc-8a29-c52177b7ce9a",
   "metadata": {},
   "outputs": [
    {
     "ename": "AssertionError",
     "evalue": "",
     "output_type": "error",
     "traceback": [
      "\u001b[0;31m---------------------------------------------------------------------------\u001b[0m",
      "\u001b[0;31mAssertionError\u001b[0m                            Traceback (most recent call last)",
      "\u001b[0;32m<ipython-input-4-dac79aa45bee>\u001b[0m in \u001b[0;36m<module>\u001b[0;34m\u001b[0m\n\u001b[1;32m      1\u001b[0m \u001b[0;31m#Train classifier\u001b[0m\u001b[0;34m\u001b[0m\u001b[0;34m\u001b[0m\u001b[0;34m\u001b[0m\u001b[0m\n\u001b[1;32m      2\u001b[0m \u001b[0mclassifier\u001b[0m \u001b[0;34m=\u001b[0m \u001b[0mNeuralNetwork\u001b[0m\u001b[0;34m(\u001b[0m\u001b[0mnn_arch\u001b[0m\u001b[0;34m,\u001b[0m \u001b[0mlr\u001b[0m\u001b[0;34m,\u001b[0m \u001b[0mseed2\u001b[0m\u001b[0;34m,\u001b[0m \u001b[0mbatch_size\u001b[0m\u001b[0;34m,\u001b[0m \u001b[0mepochs\u001b[0m\u001b[0;34m,\u001b[0m \u001b[0mloss_function\u001b[0m\u001b[0;34m)\u001b[0m\u001b[0;34m\u001b[0m\u001b[0;34m\u001b[0m\u001b[0m\n\u001b[0;32m----> 3\u001b[0;31m \u001b[0mtrain_loss\u001b[0m\u001b[0;34m,\u001b[0m \u001b[0mval_loss\u001b[0m \u001b[0;34m=\u001b[0m \u001b[0mclassifier\u001b[0m\u001b[0;34m.\u001b[0m\u001b[0mfit\u001b[0m\u001b[0;34m(\u001b[0m\u001b[0mX_train\u001b[0m\u001b[0;34m,\u001b[0m \u001b[0my_train\u001b[0m\u001b[0;34m,\u001b[0m \u001b[0mX_val\u001b[0m\u001b[0;34m,\u001b[0m \u001b[0my_val\u001b[0m\u001b[0;34m)\u001b[0m\u001b[0;34m\u001b[0m\u001b[0;34m\u001b[0m\u001b[0m\n\u001b[0m",
      "\u001b[0;32m~/Documents/ucsf/bmi203/homework/project7/nn/nn.py\u001b[0m in \u001b[0;36mfit\u001b[0;34m(self, X_train, y_train, X_val, y_val)\u001b[0m\n\u001b[1;32m    322\u001b[0m                 \u001b[0mval_output\u001b[0m\u001b[0;34m,\u001b[0m \u001b[0mval_cache\u001b[0m \u001b[0;34m=\u001b[0m \u001b[0mself\u001b[0m\u001b[0;34m.\u001b[0m\u001b[0mforward\u001b[0m\u001b[0;34m(\u001b[0m\u001b[0mX_val\u001b[0m\u001b[0;34m)\u001b[0m\u001b[0;34m\u001b[0m\u001b[0;34m\u001b[0m\u001b[0m\n\u001b[1;32m    323\u001b[0m \u001b[0;34m\u001b[0m\u001b[0m\n\u001b[0;32m--> 324\u001b[0;31m                 \u001b[0mtraining_losses\u001b[0m\u001b[0;34m.\u001b[0m\u001b[0mappend\u001b[0m\u001b[0;34m(\u001b[0m\u001b[0mself\u001b[0m\u001b[0;34m.\u001b[0m\u001b[0m_loss_function\u001b[0m\u001b[0;34m(\u001b[0m\u001b[0my_train\u001b[0m\u001b[0;34m,\u001b[0m \u001b[0mtraining_output\u001b[0m\u001b[0;34m,\u001b[0m \u001b[0mself\u001b[0m\u001b[0;34m.\u001b[0m\u001b[0m_loss_func\u001b[0m\u001b[0;34m)\u001b[0m\u001b[0;34m)\u001b[0m \u001b[0;31m#record training and validation losses\u001b[0m\u001b[0;34m\u001b[0m\u001b[0;34m\u001b[0m\u001b[0m\n\u001b[0m\u001b[1;32m    325\u001b[0m                 \u001b[0mvalidation_losses\u001b[0m\u001b[0;34m.\u001b[0m\u001b[0mappend\u001b[0m\u001b[0;34m(\u001b[0m\u001b[0mself\u001b[0m\u001b[0;34m.\u001b[0m\u001b[0m_loss_function\u001b[0m\u001b[0;34m(\u001b[0m\u001b[0my_val\u001b[0m\u001b[0;34m,\u001b[0m \u001b[0mval_output\u001b[0m\u001b[0;34m,\u001b[0m \u001b[0mself\u001b[0m\u001b[0;34m.\u001b[0m\u001b[0m_loss_func\u001b[0m\u001b[0;34m)\u001b[0m\u001b[0;34m)\u001b[0m\u001b[0;34m\u001b[0m\u001b[0;34m\u001b[0m\u001b[0m\n\u001b[1;32m    326\u001b[0m \u001b[0;34m\u001b[0m\u001b[0m\n",
      "\u001b[0;32m~/Documents/ucsf/bmi203/homework/project7/nn/nn.py\u001b[0m in \u001b[0;36m_loss_function\u001b[0;34m(self, y, y_hat, loss_fun)\u001b[0m\n\u001b[1;32m    485\u001b[0m \u001b[0;34m\u001b[0m\u001b[0m\n\u001b[1;32m    486\u001b[0m         \u001b[0;32melif\u001b[0m \u001b[0mloss_fun\u001b[0m \u001b[0;34m==\u001b[0m \u001b[0;34m'mse'\u001b[0m\u001b[0;34m:\u001b[0m\u001b[0;34m\u001b[0m\u001b[0;34m\u001b[0m\u001b[0m\n\u001b[0;32m--> 487\u001b[0;31m             \u001b[0mloss\u001b[0m \u001b[0;34m=\u001b[0m \u001b[0mself\u001b[0m\u001b[0;34m.\u001b[0m\u001b[0m_mean_squared_error\u001b[0m\u001b[0;34m(\u001b[0m\u001b[0my\u001b[0m\u001b[0;34m,\u001b[0m \u001b[0my_hat\u001b[0m\u001b[0;34m)\u001b[0m\u001b[0;34m\u001b[0m\u001b[0;34m\u001b[0m\u001b[0m\n\u001b[0m\u001b[1;32m    488\u001b[0m \u001b[0;34m\u001b[0m\u001b[0m\n\u001b[1;32m    489\u001b[0m         \u001b[0;32mreturn\u001b[0m \u001b[0mloss\u001b[0m\u001b[0;34m\u001b[0m\u001b[0;34m\u001b[0m\u001b[0m\n",
      "\u001b[0;32m~/Documents/ucsf/bmi203/homework/project7/nn/nn.py\u001b[0m in \u001b[0;36m_mean_squared_error\u001b[0;34m(self, y, y_hat)\u001b[0m\n\u001b[1;32m    574\u001b[0m \u001b[0;34m\u001b[0m\u001b[0m\n\u001b[1;32m    575\u001b[0m         \u001b[0mloss\u001b[0m \u001b[0;34m=\u001b[0m \u001b[0mnp\u001b[0m\u001b[0;34m.\u001b[0m\u001b[0mmean\u001b[0m\u001b[0;34m(\u001b[0m\u001b[0mnp\u001b[0m\u001b[0;34m.\u001b[0m\u001b[0msquare\u001b[0m\u001b[0;34m(\u001b[0m\u001b[0my\u001b[0m \u001b[0;34m-\u001b[0m \u001b[0my_hat\u001b[0m\u001b[0;34m)\u001b[0m\u001b[0;34m,\u001b[0m \u001b[0maxis\u001b[0m\u001b[0;34m=\u001b[0m\u001b[0;36m0\u001b[0m\u001b[0;34m)\u001b[0m\u001b[0;34m\u001b[0m\u001b[0;34m\u001b[0m\u001b[0m\n\u001b[0;32m--> 576\u001b[0;31m         \u001b[0;32massert\u001b[0m \u001b[0mtype\u001b[0m\u001b[0;34m(\u001b[0m\u001b[0mloss\u001b[0m\u001b[0;34m)\u001b[0m \u001b[0;34m==\u001b[0m \u001b[0mnp\u001b[0m\u001b[0;34m.\u001b[0m\u001b[0mfloat64\u001b[0m\u001b[0;34m\u001b[0m\u001b[0;34m\u001b[0m\u001b[0m\n\u001b[0m\u001b[1;32m    577\u001b[0m         \u001b[0;32mreturn\u001b[0m \u001b[0mloss\u001b[0m\u001b[0;34m\u001b[0m\u001b[0;34m\u001b[0m\u001b[0m\n\u001b[1;32m    578\u001b[0m \u001b[0;34m\u001b[0m\u001b[0m\n",
      "\u001b[0;31mAssertionError\u001b[0m: "
     ]
    }
   ],
   "source": [
    "#Train classifier\n",
    "classifier = NeuralNetwork(nn_arch, lr, seed2, batch_size, epochs, loss_function)\n",
    "train_loss, val_loss = classifier.fit(X_train, y_train, X_val, y_val)"
   ]
  },
  {
   "cell_type": "code",
   "execution_count": 5,
   "id": "6eec4dee-30d1-4b9d-bf29-85d0f6372be9",
   "metadata": {},
   "outputs": [
    {
     "data": {
      "image/png": "[encoded data removed]",
      "text/plain": [
       "<Figure size 432x288 with 2 Axes>"
      ]
     },
     "metadata": {
      "needs_background": "light"
     },
     "output_type": "display_data"
    }
   ],
   "source": [
    "#Plot losses\n",
    "epochs = np.linspace(1, len(train_loss), len(train_loss))\n",
    "fig,axs = plt.subplots(2)\n",
    "axs[0].plot(epochs, train_loss)\n",
    "axs[0].set_title('Training Loss')\n",
    "axs[0].set_xlabel('Epoch')\n",
    "\n",
    "axs[1].plot(epochs, val_loss)\n",
    "axs[1].set_title('Validation Loss')\n",
    "axs[1].set_xlabel('Epoch')\n",
    "fig.tight_layout()\n",
    "plt.show()"
   ]
  },
  {
   "cell_type": "code",
   "execution_count": 23,
   "id": "203a90f5-6b11-42bf-9540-adc98fe62f0f",
   "metadata": {},
   "outputs": [
    {
     "name": "stdout",
     "output_type": "stream",
     "text": [
      "[[0.56870515 0.56906614 0.56871619 0.56891135 0.56887496 0.56892291\n",
      "  0.56867659 0.56869873 0.56859732 0.56871159 0.56887005 0.56887193\n",
      "  0.56866522 0.56877657 0.56882761 0.56870667 0.56872053 0.56902015\n",
      "  0.56878527 0.56903658 0.56877631 0.56894248 0.56921586 0.56877145\n",
      "  0.56894787 0.56884674 0.5690316  0.56865231 0.56869717 0.56902465\n",
      "  0.56890757 0.56887083 0.56901852 0.56909794 0.56893523 0.56872848\n",
      "  0.56875511 0.56900322 0.56876414 0.5688394  0.56886019 0.56880849\n",
      "  0.56871892 0.56881948 0.56885579 0.56876121 0.5687251  0.56900662\n",
      "  0.56888665 0.56889598 0.56864806 0.56901874 0.56896668 0.56901141\n",
      "  0.56893549 0.56878078 0.56877889 0.56871554 0.56846394 0.56871923\n",
      "  0.56898856 0.56923686 0.56919052 0.56879915 0.56891117 0.56894672\n",
      "  0.56887533 0.56885959 0.56900043 0.56892549 0.56903044 0.56885719\n",
      "  0.56895357 0.56850883 0.56854824 0.5686898  0.56906778 0.56872771\n",
      "  0.56896822 0.56880384 0.56882731 0.56879619 0.56891747 0.56891488\n",
      "  0.56894298 0.56899786 0.56887753 0.5689643  0.56907715 0.56897787\n",
      "  0.56907104 0.56895383 0.5688306  0.56881204 0.56907647 0.56879174\n",
      "  0.56884797 0.56871916 0.56870229 0.56904967 0.5689952  0.5692497\n",
      "  0.56886874 0.56862051 0.56875269 0.56881384 0.56887617 0.56877883\n",
      "  0.56843225 0.56883037 0.5688801  0.56837475 0.56859021 0.56892638\n",
      "  0.56898767 0.56910303 0.56881538 0.56903541 0.56888375 0.56900651\n",
      "  0.56881666 0.5690153  0.56889865 0.56880021 0.56915563 0.56881134\n",
      "  0.5688076  0.56900092 0.56877192 0.56880377 0.56886181 0.56891367\n",
      "  0.56904536 0.56883743 0.56875767 0.56912602 0.56882219 0.56881229\n",
      "  0.56872185 0.56928935 0.56873243 0.568794   0.56900904 0.56916023\n",
      "  0.56890042 0.56865698 0.56869298 0.56899838 0.56879196 0.56859777\n",
      "  0.56880074 0.56897456 0.56900868 0.56880888 0.5688931  0.56877341\n",
      "  0.56884881 0.56883397 0.56883622 0.56852956 0.56886892 0.56908308\n",
      "  0.56885371 0.56892116 0.56880974 0.56908433 0.56869834 0.56886127\n",
      "  0.5689942  0.56884206 0.56888308 0.56861819 0.56852689 0.56889353\n",
      "  0.56862667 0.56872111 0.56897872 0.56882661 0.56913584 0.56868592\n",
      "  0.56899235 0.56905404 0.5688873  0.56902183 0.56910606 0.5687085\n",
      "  0.56901089 0.56878548 0.56888713 0.5689434  0.56876996 0.56898983\n",
      "  0.56871625 0.56863868 0.56879361 0.56863302 0.56879838 0.56874523\n",
      "  0.56896221 0.56844485 0.56877049 0.56894275 0.56907043 0.56865669\n",
      "  0.56905759 0.56884549 0.56893368 0.56852782 0.56896276 0.56890588\n",
      "  0.5691482  0.56912811 0.56891824 0.56877433 0.56858827 0.56900036\n",
      "  0.56872993 0.56896028 0.56876856 0.56898039 0.56893601 0.56873794\n",
      "  0.56908756 0.5688691  0.56897424 0.56914331 0.56883725 0.56865796\n",
      "  0.56896985 0.56895779 0.56901271 0.56881049 0.56885209 0.56886496\n",
      "  0.56867933 0.5687177  0.56888774 0.56876975 0.56883393 0.56897236\n",
      "  0.56876434 0.56865005 0.56871421 0.56891324 0.56897065 0.56898133\n",
      "  0.56882185 0.568857   0.56901323 0.56889138 0.56875907 0.56929954\n",
      "  0.56886681 0.56888013 0.56909143 0.5688081  0.56910668 0.56870571\n",
      "  0.56893262 0.56877341 0.5689553  0.56879346 0.56869703 0.56878243\n",
      "  0.56885473 0.56898605 0.56880929 0.56895488 0.56895762 0.56891351\n",
      "  0.56897499 0.56899023 0.56901925 0.56868489]]\n"
     ]
    }
   ],
   "source": [
    "prediction = classifier.predict(X)\n",
    "output,cache = classifier.forward(X)"
   ]
  },
  {
   "cell_type": "code",
   "execution_count": null,
   "id": "6b688f9b-71d2-4b4d-81fc-b83e3526a0b5",
   "metadata": {},
   "outputs": [],
   "source": []
  }
 ],
 "metadata": {
  "kernelspec": {
   "display_name": "Python 3",
   "language": "python",
   "name": "python3"
  },
  "language_info": {
   "codemirror_mode": {
    "name": "ipython",
    "version": 3
   },
   "file_extension": ".py",
   "mimetype": "text/x-python",
   "name": "python",
   "nbconvert_exporter": "python",
   "pygments_lexer": "ipython3",
   "version": "3.8.8"
  }
 },
 "nbformat": 4,
 "nbformat_minor": 5
}
