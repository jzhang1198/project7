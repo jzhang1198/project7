{
 "cells": [
  {
   "cell_type": "code",
   "execution_count": 12,
   "id": "cdd5ca3a-72fa-425f-88c4-115f7aef7e34",
   "metadata": {},
   "outputs": [],
   "source": [
    "from nn import NeuralNetwork\n",
    "from sklearn.datasets import load_digits\n",
    "from sklearn.model_selection import train_test_split\n",
    "from matplotlib import pyplot as plt\n",
    "import numpy as np"
   ]
  },
  {
   "cell_type": "code",
   "execution_count": 57,
   "id": "49798d20-251b-47a4-b019-a6779ba8fb2f",
   "metadata": {},
   "outputs": [
    {
     "name": "stdout",
     "output_type": "stream",
     "text": [
      "(64, 1203)\n"
     ]
    }
   ],
   "source": [
    "#Load and split digits dataset\n",
    "split_percent = .33\n",
    "\n",
    "digits = load_digits()\n",
    "y = digits['target']\n",
    "X = digits['data']\n",
    "# print(X.T.shape)\n",
    "# print(np.array([y]).shape)\n",
    "\n",
    "X_train, X_val, y_train, y_val = train_test_split(X, y, test_size=split_percent, random_state=42)\n",
    "\n",
    "#Reshape dataset to fit convention used in implementation of neural net\n",
    "X_train = X_train.T \n",
    "X_val = X_val.T\n",
    "y_train = np.array([y_train])\n",
    "y_val = np.array([y_val])\n",
    "print(X_train.shape)\n"
   ]
  },
  {
   "cell_type": "markdown",
   "id": "34bb89e6-36c8-4229-8b3d-8a067b5a2918",
   "metadata": {},
   "source": [
    "Rationale for hyperparameter choice:"
   ]
  },
  {
   "cell_type": "code",
   "execution_count": 55,
   "id": "815f4aa7-e8a8-4577-976b-08651edbd89b",
   "metadata": {},
   "outputs": [],
   "source": [
    "#Define hyperparams\n",
    "nn_arch = [{'input_dim': 64, 'output_dim': 16, 'activation': 'relu'}, {'input_dim': 16, 'output_dim': 64, 'activation': 'sigmoid'}]\n",
    "lr = 0.00001\n",
    "seed = 1\n",
    "batch_size = 500\n",
    "epochs = 1000\n",
    "loss_function = 'mse'"
   ]
  },
  {
   "cell_type": "code",
   "execution_count": 54,
   "id": "8c4a73de-dd1f-43a7-8e27-6bccc1c6564e",
   "metadata": {},
   "outputs": [
    {
     "data": {
      "text/plain": [
       "(16, 64)"
      ]
     },
     "execution_count": 54,
     "metadata": {},
     "output_type": "execute_result"
    }
   ],
   "source": [
    "autoencoder = NeuralNetwork(nn_arch, lr, seed, batch_size, epochs, loss_function)\n",
    "autoencoder._param_dict['W1'].shape"
   ]
  },
  {
   "cell_type": "code",
   "execution_count": 56,
   "id": "eae67fa6-abab-4219-9103-8cdcdaf09787",
   "metadata": {},
   "outputs": [
    {
     "ename": "ValueError",
     "evalue": "shapes (16,64) and (1,1203,64) not aligned: 64 (dim 1) != 1203 (dim 1)",
     "output_type": "error",
     "traceback": [
      "\u001b[0;31m---------------------------------------------------------------------------\u001b[0m",
      "\u001b[0;31mValueError\u001b[0m                                Traceback (most recent call last)",
      "\u001b[0;32m<ipython-input-56-d7a01f59dd60>\u001b[0m in \u001b[0;36m<module>\u001b[0;34m\u001b[0m\n\u001b[1;32m      1\u001b[0m \u001b[0;31m#Train autoencoder using digits dataset\u001b[0m\u001b[0;34m\u001b[0m\u001b[0;34m\u001b[0m\u001b[0;34m\u001b[0m\u001b[0m\n\u001b[1;32m      2\u001b[0m \u001b[0mautoencoder\u001b[0m \u001b[0;34m=\u001b[0m \u001b[0mNeuralNetwork\u001b[0m\u001b[0;34m(\u001b[0m\u001b[0mnn_arch\u001b[0m\u001b[0;34m,\u001b[0m \u001b[0mlr\u001b[0m\u001b[0;34m,\u001b[0m \u001b[0mseed\u001b[0m\u001b[0;34m,\u001b[0m \u001b[0mbatch_size\u001b[0m\u001b[0;34m,\u001b[0m \u001b[0mepochs\u001b[0m\u001b[0;34m,\u001b[0m \u001b[0mloss_function\u001b[0m\u001b[0;34m)\u001b[0m\u001b[0;34m\u001b[0m\u001b[0;34m\u001b[0m\u001b[0m\n\u001b[0;32m----> 3\u001b[0;31m \u001b[0mtrain_loss\u001b[0m\u001b[0;34m,\u001b[0m \u001b[0mval_loss\u001b[0m \u001b[0;34m=\u001b[0m \u001b[0mautoencoder\u001b[0m\u001b[0;34m.\u001b[0m\u001b[0mfit\u001b[0m\u001b[0;34m(\u001b[0m\u001b[0mX_train\u001b[0m\u001b[0;34m,\u001b[0m \u001b[0my_train\u001b[0m\u001b[0;34m,\u001b[0m \u001b[0mX_val\u001b[0m\u001b[0;34m,\u001b[0m \u001b[0my_val\u001b[0m\u001b[0;34m)\u001b[0m\u001b[0;34m\u001b[0m\u001b[0;34m\u001b[0m\u001b[0m\n\u001b[0m\u001b[1;32m      4\u001b[0m \u001b[0;34m\u001b[0m\u001b[0m\n\u001b[1;32m      5\u001b[0m \u001b[0;31m#Plot losses\u001b[0m\u001b[0;34m\u001b[0m\u001b[0;34m\u001b[0m\u001b[0;34m\u001b[0m\u001b[0m\n",
      "\u001b[0;32m~/Documents/ucsf/bmi203/homework/project7/nn/nn.py\u001b[0m in \u001b[0;36mfit\u001b[0;34m(self, X_train, y_train, X_val, y_val)\u001b[0m\n\u001b[1;32m    305\u001b[0m \u001b[0;34m\u001b[0m\u001b[0m\n\u001b[1;32m    306\u001b[0m             \u001b[0;32mfor\u001b[0m \u001b[0mX_train\u001b[0m\u001b[0;34m,\u001b[0m \u001b[0my_train\u001b[0m \u001b[0;32min\u001b[0m \u001b[0mzip\u001b[0m\u001b[0;34m(\u001b[0m\u001b[0mX_batch\u001b[0m\u001b[0;34m,\u001b[0m \u001b[0my_batch\u001b[0m\u001b[0;34m)\u001b[0m\u001b[0;34m:\u001b[0m\u001b[0;34m\u001b[0m\u001b[0;34m\u001b[0m\u001b[0m\n\u001b[0;32m--> 307\u001b[0;31m                 \u001b[0mtraining_output\u001b[0m\u001b[0;34m,\u001b[0m \u001b[0mtraining_cache\u001b[0m \u001b[0;34m=\u001b[0m \u001b[0mself\u001b[0m\u001b[0;34m.\u001b[0m\u001b[0mforward\u001b[0m\u001b[0;34m(\u001b[0m\u001b[0mX_batch\u001b[0m\u001b[0;34m)\u001b[0m \u001b[0;31m#forward pass of training and validation set\u001b[0m\u001b[0;34m\u001b[0m\u001b[0;34m\u001b[0m\u001b[0m\n\u001b[0m\u001b[1;32m    308\u001b[0m                 \u001b[0mval_output\u001b[0m\u001b[0;34m,\u001b[0m \u001b[0mval_cache\u001b[0m \u001b[0;34m=\u001b[0m \u001b[0mself\u001b[0m\u001b[0;34m.\u001b[0m\u001b[0mforward\u001b[0m\u001b[0;34m(\u001b[0m\u001b[0mX_val\u001b[0m\u001b[0;34m)\u001b[0m\u001b[0;34m\u001b[0m\u001b[0;34m\u001b[0m\u001b[0m\n\u001b[1;32m    309\u001b[0m \u001b[0;34m\u001b[0m\u001b[0m\n",
      "\u001b[0;32m~/Documents/ucsf/bmi203/homework/project7/nn/nn.py\u001b[0m in \u001b[0;36mforward\u001b[0;34m(self, X)\u001b[0m\n\u001b[1;32m    131\u001b[0m             \u001b[0mb_curr\u001b[0m \u001b[0;34m=\u001b[0m \u001b[0mself\u001b[0m\u001b[0;34m.\u001b[0m\u001b[0m_param_dict\u001b[0m\u001b[0;34m[\u001b[0m\u001b[0;34m'b'\u001b[0m \u001b[0;34m+\u001b[0m \u001b[0mstr\u001b[0m\u001b[0;34m(\u001b[0m\u001b[0mi\u001b[0m\u001b[0;34m+\u001b[0m\u001b[0;36m1\u001b[0m\u001b[0;34m)\u001b[0m\u001b[0;34m]\u001b[0m\u001b[0;34m\u001b[0m\u001b[0;34m\u001b[0m\u001b[0m\n\u001b[1;32m    132\u001b[0m \u001b[0;34m\u001b[0m\u001b[0m\n\u001b[0;32m--> 133\u001b[0;31m             \u001b[0mZ_curr\u001b[0m\u001b[0;34m,\u001b[0m \u001b[0mA_curr\u001b[0m \u001b[0;34m=\u001b[0m \u001b[0mself\u001b[0m\u001b[0;34m.\u001b[0m\u001b[0m_single_forward\u001b[0m\u001b[0;34m(\u001b[0m\u001b[0mW_curr\u001b[0m\u001b[0;34m,\u001b[0m \u001b[0mb_curr\u001b[0m\u001b[0;34m,\u001b[0m \u001b[0mA_prev\u001b[0m\u001b[0;34m,\u001b[0m \u001b[0mact_func_type\u001b[0m\u001b[0;34m)\u001b[0m \u001b[0;31m#compute Z and A for layer i+1\u001b[0m\u001b[0;34m\u001b[0m\u001b[0;34m\u001b[0m\u001b[0m\n\u001b[0m\u001b[1;32m    134\u001b[0m             \u001b[0mcache\u001b[0m\u001b[0;34m[\u001b[0m\u001b[0;34m'A'\u001b[0m \u001b[0;34m+\u001b[0m \u001b[0mstr\u001b[0m\u001b[0;34m(\u001b[0m\u001b[0mi\u001b[0m\u001b[0;34m+\u001b[0m\u001b[0;36m1\u001b[0m\u001b[0;34m)\u001b[0m\u001b[0;34m]\u001b[0m \u001b[0;34m=\u001b[0m \u001b[0mA_curr\u001b[0m \u001b[0;31m#cache output Z and A from layer i+1\u001b[0m\u001b[0;34m\u001b[0m\u001b[0;34m\u001b[0m\u001b[0m\n\u001b[1;32m    135\u001b[0m             \u001b[0mcache\u001b[0m\u001b[0;34m[\u001b[0m\u001b[0;34m'Z'\u001b[0m \u001b[0;34m+\u001b[0m \u001b[0mstr\u001b[0m\u001b[0;34m(\u001b[0m\u001b[0mi\u001b[0m\u001b[0;34m+\u001b[0m\u001b[0;36m1\u001b[0m\u001b[0;34m)\u001b[0m\u001b[0;34m]\u001b[0m \u001b[0;34m=\u001b[0m \u001b[0mZ_curr\u001b[0m\u001b[0;34m\u001b[0m\u001b[0;34m\u001b[0m\u001b[0m\n",
      "\u001b[0;32m~/Documents/ucsf/bmi203/homework/project7/nn/nn.py\u001b[0m in \u001b[0;36m_single_forward\u001b[0;34m(self, W_curr, b_curr, A_prev, activation)\u001b[0m\n\u001b[1;32m    103\u001b[0m         \"\"\"\n\u001b[1;32m    104\u001b[0m \u001b[0;34m\u001b[0m\u001b[0m\n\u001b[0;32m--> 105\u001b[0;31m         \u001b[0mZ_curr\u001b[0m \u001b[0;34m=\u001b[0m \u001b[0mnp\u001b[0m\u001b[0;34m.\u001b[0m\u001b[0mdot\u001b[0m\u001b[0;34m(\u001b[0m\u001b[0mW_curr\u001b[0m\u001b[0;34m,\u001b[0m \u001b[0mA_prev\u001b[0m\u001b[0;34m)\u001b[0m \u001b[0;34m+\u001b[0m \u001b[0mb_curr\u001b[0m\u001b[0;34m\u001b[0m\u001b[0;34m\u001b[0m\u001b[0m\n\u001b[0m\u001b[1;32m    106\u001b[0m         \u001b[0mA_curr\u001b[0m \u001b[0;34m=\u001b[0m \u001b[0mself\u001b[0m\u001b[0;34m.\u001b[0m\u001b[0m_activation_function\u001b[0m\u001b[0;34m(\u001b[0m\u001b[0mZ_curr\u001b[0m\u001b[0;34m,\u001b[0m \u001b[0mactivation\u001b[0m\u001b[0;34m)\u001b[0m\u001b[0;34m\u001b[0m\u001b[0;34m\u001b[0m\u001b[0m\n\u001b[1;32m    107\u001b[0m         \u001b[0;32mreturn\u001b[0m \u001b[0mZ_curr\u001b[0m\u001b[0;34m,\u001b[0m \u001b[0mA_curr\u001b[0m\u001b[0;34m\u001b[0m\u001b[0;34m\u001b[0m\u001b[0m\n",
      "\u001b[0;32m<__array_function__ internals>\u001b[0m in \u001b[0;36mdot\u001b[0;34m(*args, **kwargs)\u001b[0m\n",
      "\u001b[0;31mValueError\u001b[0m: shapes (16,64) and (1,1203,64) not aligned: 64 (dim 1) != 1203 (dim 1)"
     ]
    }
   ],
   "source": [
    "#Train autoencoder using digits dataset\n",
    "autoencoder = NeuralNetwork(nn_arch, lr, seed, batch_size, epochs, loss_function)\n",
    "train_loss, val_loss = autoencoder.fit(X_train, y_train, X_val, y_val)\n",
    "\n",
    "#Plot losses\n",
    "epochs = np.linspace(1, len(train_loss), len(train_loss))\n",
    "fig,axs = plt.subplot(2,1)\n",
    "axs[0,1].plot(epochs, train_loss)\n",
    "axs[0,1].set_title('Training Loss')\n",
    "axs[0,1].set_xlabel('Epoch')\n",
    "\n",
    "axs[1,1].plot(epochs, val_loss)\n",
    "axs[1,1].set_title('Validation Loss')\n",
    "axs[1,1].set_xlabel('Epoch')\n",
    "plt.show()"
   ]
  },
  {
   "cell_type": "code",
   "execution_count": 72,
   "id": "ebe542ea-544f-4d16-9bf5-d4e1f3515bff",
   "metadata": {},
   "outputs": [
    {
     "name": "stdout",
     "output_type": "stream",
     "text": [
      "[[ 0.  0.  0. ...  0.  0.  0.]\n",
      " [ 0.  0.  0. ...  0.  0.  0.]\n",
      " [ 0. 10.  1. ...  4. 10.  0.]\n",
      " ...\n",
      " [ 0.  1. 11. ...  0.  8.  4.]\n",
      " [ 0.  0.  1. ...  0.  0.  0.]\n",
      " [ 0.  0.  0. ...  0.  0.  0.]] (64, 1203)\n",
      "[[4 8 6 ... 7 9 1]] (1, 1203)\n",
      "\n",
      "5\n",
      "(64, 241)\n",
      "(1, 241)\n",
      "\n",
      "(64, 241)\n",
      "(1, 241)\n",
      "\n",
      "(64, 241)\n",
      "(1, 241)\n",
      "\n",
      "(64, 240)\n",
      "(1, 240)\n",
      "\n",
      "(64, 240)\n",
      "(1, 240)\n",
      "\n"
     ]
    }
   ],
   "source": [
    "def fit(X_train,y_train,X_val,y_val):\n",
    "\n",
    "    epochs = 0\n",
    "    per_epoch_loss_train = []\n",
    "    per_epoch_loss_val = []\n",
    "\n",
    "    while epochs < 1:\n",
    "        epochs += 1\n",
    "\n",
    "        #Shuffle training set\n",
    "        shuffled_indices = np.linspace(0, X_train.shape[1]-1, X_train.shape[1])\n",
    "        np.random.shuffle(shuffled_indices)\n",
    "        X_train = np.array([X_train[:, int(i)] for i in shuffled_indices]).T\n",
    "        y_train = np.array([y_train[:, int(i)] for i in shuffled_indices]).T\n",
    "        print(X_train, X_train.shape)\n",
    "        print(y_train, y_train.shape)\n",
    "        print('')\n",
    "\n",
    "        #Split training set into batches\n",
    "        num_batches = int(X_train.shape[1]/300) + 1\n",
    "        print(num_batches)\n",
    "        X_batch = [i.T for i in np.array_split(X_train.T, num_batches)]\n",
    "        y_batch = [i.T for i in np.array_split(y_train.T, num_batches)]\n",
    "        \n",
    "        for X_train, y_train in zip(X_batch, y_batch):\n",
    "            print(X_train.shape)\n",
    "            print(y_train.shape)\n",
    "            print('')\n",
    "            \n",
    "\n",
    "        #Generate empty lists to hold losses for batches\n",
    "        training_losses = []\n",
    "        validation_losses = []\n",
    "\n",
    "#         for X_train, y_train in zip(X_batch, y_batch):\n",
    "#             training_output, training_cache = self.forward(X_batch) #forward pass of training and validation set\n",
    "#             val_output, val_cache = self.forward(X_val)\n",
    "\n",
    "#             training_losses.append(self._loss_function(y_train, training_output, self._loss_func)) #record training and validation losses\n",
    "#             validation_losses.append(self._loss_function(y_val, val_output))\n",
    "\n",
    "#             grad_dict = backprop(y_train, training_output) #backward pass\n",
    "#             self._update_params(grad_dict) #update weights and biases\n",
    "\n",
    "#         per_epoch_loss_train.append(np.mean(np.array(training_losses)))\n",
    "#         per_epoch_loss_val.append(np.mean(np.array(validation_losses)))\n",
    "\n",
    "    return \n",
    "\n",
    "fit(X_train,y_train,X_val,y_val)\n"
   ]
  },
  {
   "cell_type": "code",
   "execution_count": null,
   "id": "59a42183-c333-47d8-95cb-86f5e767855b",
   "metadata": {},
   "outputs": [],
   "source": []
  }
 ],
 "metadata": {
  "kernelspec": {
   "display_name": "Python 3",
   "language": "python",
   "name": "python3"
  },
  "language_info": {
   "codemirror_mode": {
    "name": "ipython",
    "version": 3
   },
   "file_extension": ".py",
   "mimetype": "text/x-python",
   "name": "python",
   "nbconvert_exporter": "python",
   "pygments_lexer": "ipython3",
   "version": "3.8.8"
  }
 },
 "nbformat": 4,
 "nbformat_minor": 5
}
