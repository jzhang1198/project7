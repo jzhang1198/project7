{
 "cells": [
  {
   "cell_type": "code",
   "execution_count": 1,
   "id": "7296bf1f-7b25-4aba-8a56-c6092034f7d4",
   "metadata": {},
   "outputs": [],
   "source": [
    "#Import dependencies\n",
    "from nn import NeuralNetwork\n",
    "from nn import preprocess\n",
    "from nn import io\n",
    "from sklearn.model_selection import train_test_split\n",
    "from matplotlib import pyplot as plt\n",
    "import numpy as np"
   ]
  },
  {
   "cell_type": "markdown",
   "id": "0407bef9-333a-4e42-a8e3-8b0430bba7f7",
   "metadata": {},
   "source": [
    "# Rationale for Sampling Scheme\n",
    "Because the relative abundance of negative examples is much greater than that of positive examples, I decided to sample a small fraction of the negative examples. In my implementation of sample_seqs, I randomly sample, with replacement, 137 known negative examples. From each of these 137 sequences, I randomly select a 17-mer to ensure that all examples are of the same sequence length. "
   ]
  },
  {
   "cell_type": "code",
   "execution_count": 2,
   "id": "d98f6018-1f30-4fa8-887e-e0d6d35d9159",
   "metadata": {},
   "outputs": [
    {
     "name": "stdout",
     "output_type": "stream",
     "text": [
      "4073\n",
      "(68, 2851)\n",
      "(1, 2851)\n"
     ]
    }
   ],
   "source": [
    "#Process data for training\n",
    "pos_file = 'data/rap1-lieb-positives.txt'\n",
    "neg_file = 'data/yeast-upstream-1k-negative.fa'\n",
    "\n",
    "#Load sequences and labels\n",
    "pos_seqs = io.read_text_file(pos_file)\n",
    "pos_labels = [1] * len(pos_seqs)\n",
    "neg_seqs = io.read_fasta_file(neg_file)\n",
    "neg_labels = [0] * len(neg_seqs)\n",
    "seqs = pos_seqs + neg_seqs\n",
    "labels = pos_labels + neg_labels\n",
    "\n",
    "#Sample sequences\n",
    "seed = 1 #set seed for reproducibility\n",
    "sampled_seqs, sampled_labels = preprocess.sample_seqs(seqs,labels,1)\n",
    "print(len(sampled_seqs))\n",
    "\n",
    "#Generate training and validation sets\n",
    "split_percent = .3\n",
    "X_train, X_val, y_train, y_val = train_test_split(sampled_seqs, sampled_labels, test_size=split_percent, random_state=42)\n",
    "\n",
    "#Reshape and one hot encode training and validation sets  \n",
    "X_train = np.array(preprocess.one_hot_encode_seqs(X_train)).T\n",
    "X_val = np.array(preprocess.one_hot_encode_seqs(X_val)).T\n",
    "y_train = np.array([y_train])\n",
    "y_val = np.array([y_val])\n",
    "\n",
    "X = np.concatenate((X_train, X_val),axis=1)\n",
    "y = np.concatenate((y_train, y_val),axis=1)"
   ]
  },
  {
   "cell_type": "code",
   "execution_count": 3,
   "id": "9c401240-0780-4ed0-8255-b9f50105ecbc",
   "metadata": {},
   "outputs": [],
   "source": [
    "#Define hyperparameters\n",
    "nn_arch = [{'input_dim' :  68, 'output_dim' : 34, 'activation' : 'sigmoid'}, \n",
    "           {'input_dim' : 34, 'output_dim' : 1, 'activation' : 'sigmoid'}]\n",
    "lr = 0.00001\n",
    "seed1 = 1\n",
    "seed2 = 2\n",
    "batch_size = 400\n",
    "epochs = 1000\n",
    "loss_function = 'bce'"
   ]
  },
  {
   "cell_type": "code",
   "execution_count": 4,
   "id": "541bee56-825d-45bc-8a29-c52177b7ce9a",
   "metadata": {},
   "outputs": [],
   "source": [
    "#Train classifier\n",
    "classifier = NeuralNetwork(nn_arch, lr, seed2, batch_size, epochs, loss_function)\n",
    "train_loss, val_loss = classifier.fit(X_train, y_train, X_val, y_val)"
   ]
  },
  {
   "cell_type": "code",
   "execution_count": 8,
   "id": "6eec4dee-30d1-4b9d-bf29-85d0f6372be9",
   "metadata": {},
   "outputs": [
    {
     "data": {
      "image/png": "[encoded data removed]",
      "text/plain": [
       "<Figure size 432x288 with 2 Axes>"
      ]
     },
     "metadata": {
      "needs_background": "light"
     },
     "output_type": "display_data"
    }
   ],
   "source": [
    "#Plot losses\n",
    "epochs = np.linspace(1, len(train_loss), len(train_loss))\n",
    "fig,axs = plt.subplots(2)\n",
    "axs[0].plot(epochs, train_loss)\n",
    "axs[0].set_title('Training Loss')\n",
    "axs[0].set_xlabel('Epoch')\n",
    "axs[0].set_ylabel('BCE Loss')\n",
    "\n",
    "axs[1].plot(epochs, val_loss)\n",
    "axs[1].set_title('Validation Loss')\n",
    "axs[1].set_xlabel('Epoch')\n",
    "axs[1].set_ylabel('BCE Loss')\n",
    "fig.tight_layout()\n",
    "plt.show()"
   ]
  },
  {
   "cell_type": "code",
   "execution_count": 13,
   "id": "203a90f5-6b11-42bf-9540-adc98fe62f0f",
   "metadata": {},
   "outputs": [
    {
     "name": "stdout",
     "output_type": "stream",
     "text": [
      "Accuracy: 0.9639934533551555\n"
     ]
    }
   ],
   "source": [
    "#Generate predictions for all sequences in X_val\n",
    "prediction = classifier.predict(X_val)\n",
    "\n",
    "#Compute accuracy of trained neural network\n",
    "accuracy = (y_val.shape[1] - np.count_nonzero(y_val - np.round(prediction))) / y_val.shape[1]\n",
    "print(f'Accuracy: {accuracy}')"
   ]
  },
  {
   "cell_type": "code",
   "execution_count": null,
   "id": "004e3488-c0c0-4827-88cd-028f7407a559",
   "metadata": {},
   "outputs": [],
   "source": []
  }
 ],
 "metadata": {
  "kernelspec": {
   "display_name": "Python 3",
   "language": "python",
   "name": "python3"
  },
  "language_info": {
   "codemirror_mode": {
    "name": "ipython",
    "version": 3
   },
   "file_extension": ".py",
   "mimetype": "text/x-python",
   "name": "python",
   "nbconvert_exporter": "python",
   "pygments_lexer": "ipython3",
   "version": "3.8.8"
  }
 },
 "nbformat": 4,
 "nbformat_minor": 5
}
